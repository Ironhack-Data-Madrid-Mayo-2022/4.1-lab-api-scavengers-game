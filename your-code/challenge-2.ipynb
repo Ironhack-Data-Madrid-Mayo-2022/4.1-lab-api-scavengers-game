{
 "cells": [
  {
   "cell_type": "markdown",
   "id": "threaded-asbestos",
   "metadata": {},
   "source": [
    "# Challenge 2: Count Commits\n",
    "\n",
    "Count how many commits were made in the past week.\n",
    "\n",
    "Obtain all the commits made in the past week via API, which is a JSON array that contains multiple commit objects.\n",
    "\n",
    "Count how many commit objects are contained in the array."
   ]
  },
  {
   "cell_type": "markdown",
   "id": "norwegian-praise",
   "metadata": {},
   "source": [
    "⚠️ **Remember to limit your output before submission**."
   ]
  },
  {
   "cell_type": "code",
   "execution_count": 1,
   "id": "developing-printing",
   "metadata": {},
   "outputs": [],
   "source": [
    "#Your code"
   ]
  },
  {
   "cell_type": "code",
   "execution_count": 2,
   "id": "creative-stable",
   "metadata": {},
   "outputs": [],
   "source": [
    "# Example: print(variable[:10]) "
   ]
  },
  {
   "cell_type": "code",
   "execution_count": null,
   "id": "ongoing-taylor",
   "metadata": {},
   "outputs": [],
   "source": []
  }
 ],
 "metadata": {
  "kernelspec": {
   "display_name": "Python 3",
   "language": "python",
   "name": "python3"
  },
  "language_info": {
   "codemirror_mode": {
    "name": "ipython",
    "version": 3
   },
   "file_extension": ".py",
   "mimetype": "text/x-python",
   "name": "python",
   "nbconvert_exporter": "python",
   "pygments_lexer": "ipython3",
   "version": "3.8.5"
  },
  "toc": {
   "base_numbering": 1,
   "nav_menu": {},
   "number_sections": true,
   "sideBar": true,
   "skip_h1_title": true,
   "title_cell": "Table of Contents",
   "title_sidebar": "Contents",
   "toc_cell": false,
   "toc_position": {
    "height": "calc(100% - 180px)",
    "left": "10px",
    "top": "150px",
    "width": "288px"
   },
   "toc_section_display": true,
   "toc_window_display": true
  }
 },
 "nbformat": 4,
 "nbformat_minor": 5
}
